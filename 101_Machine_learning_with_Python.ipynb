{
  "nbformat": 4,
  "nbformat_minor": 0,
  "metadata": {
    "colab": {
      "provenance": [],
      "collapsed_sections": [
        "a6ZZfC2Rl9f4",
        "GGimqWi--Joj",
        "65KbU0oxmLnX",
        "kNAqrM59Sp0S",
        "s51hLtePmLzE",
        "nB5Za7q9rUIn",
        "RHFxsV4slGgm",
        "fupPhH7FlGgq",
        "tDOxvlpDlGgt",
        "ZKp5DOk5lGgv",
        "A-AXLL7nybTC",
        "2nF78aHgtDVi",
        "HZiWgUu2lGg9",
        "Cz9AKYehlGg-",
        "Lj3F_lOp8NG_",
        "22Apuzh68Qw0",
        "8DuaTN-x6wHn",
        "WH1ImfcsdsMm",
        "xm4Y9U10SyAs",
        "mTn2w5HfSnXA"
      ],
      "include_colab_link": true
    },
    "kernelspec": {
      "display_name": "Python 3",
      "language": "python",
      "name": "python3"
    },
    "language_info": {
      "codemirror_mode": {
        "name": "ipython",
        "version": 3
      },
      "file_extension": ".py",
      "mimetype": "text/x-python",
      "name": "python",
      "nbconvert_exporter": "python",
      "pygments_lexer": "ipython3",
      "version": "3.7.6"
    }
  },
  "cells": [
    {
      "cell_type": "markdown",
      "metadata": {
        "id": "view-in-github",
        "colab_type": "text"
      },
      "source": [
        "<a href=\"https://colab.research.google.com/github/Snoraa/SU1/blob/main/101_Machine_learning_with_Python.ipynb\" target=\"_parent\"><img src=\"https://colab.research.google.com/assets/colab-badge.svg\" alt=\"Open In Colab\"/></a>"
      ]
    },
    {
      "cell_type": "markdown",
      "metadata": {
        "id": "H5RYrb2W8_Ke"
      },
      "source": [
        "![Logo 01](https://staff.utia.cas.cz/novozada/ml1/101.png)\n",
        "\n",
        "**Course website:** [http://zoi.utia.cas.cz/SU1](http://zoi.utia.cas.cz/SU1)\n"
      ]
    },
    {
      "cell_type": "markdown",
      "metadata": {
        "id": "a6ZZfC2Rl9f4"
      },
      "source": [
        "# Part 1: Labs orientation\n"
      ]
    },
    {
      "cell_type": "markdown",
      "metadata": {
        "id": "mKy9U3s_rzSv"
      },
      "source": []
    },
    {
      "cell_type": "markdown",
      "metadata": {
        "id": "GGimqWi--Joj"
      },
      "source": [
        "## Schedule - Machine learning with Python\n",
        "- Linear regression\n",
        "- SVM\n",
        "- KNN\n",
        "- Naive Bayes\n",
        "- Desidion Tree\n",
        "- K-Means Clustering\n",
        "- Perceptron\n",
        "- Decision Tree\n",
        "- Random Forest\n",
        "- PCA\n",
        "\n",
        "**Attendence:**\n",
        "\n",
        "Absence maximum 25% (one lab lesson).\n",
        "<br /><br />\n",
        "Attendance consist of:\n",
        "1.   Being present during the Lab session - on ZOOM (turning on the camera is requested)\n",
        "2.   Ask questions or comments during the exercise (if you have one)\n",
        "3.   For further questions - use the feedback function on Github -- NEPLATÍ\n",
        "4.   **At the end of the year save your credit assignment on Github**\n",
        "\n",
        "\n"
      ]
    },
    {
      "cell_type": "markdown",
      "metadata": {
        "id": "65KbU0oxmLnX"
      },
      "source": [
        "# Part 2: Colab"
      ]
    },
    {
      "cell_type": "markdown",
      "metadata": {
        "id": "eNVr6pE2PpY_"
      },
      "source": [
        "<a href=\"https://colab.research.google.com/\"><img src=\"https://staff.utia.cas.cz/novozada/ml1/colab_logo.png\"\n",
        " align=\"right\"></a>There are several benefits of using Colab over using your own local machines:\n",
        "\n",
        "* You do not require to do an [environment setup](https://docs.conda.io/projects/conda/en/latest/index.html).\n",
        "* Browser-based [Jupyter Notebooks](https://jupyter.org/) with important [packages](https://pypi.org/) pre-installed\n",
        "* Document code with [Markdown](https://colab.research.google.com/notebooks/markdown_guide.ipynb)\n",
        "* Load Data from (and save to) [Local Drive and Google Drive](https://colab.research.google.com/notebooks/io.ipynb)\n",
        "* Importing [Notebooks from Github](https://colab.research.google.com/github/googlecolab/colabtools/blob/master/notebooks/colab-github-demo.ipynb#scrollTo=K-NVg7RjyeTk)\n",
        "* [Sharing](https://www.tutorialspoint.com/google_colab/google_colab_sharing_notebook.htm) with others\n",
        "* [Free GPU](https://www.tutorialspoint.com/google_colab/google_colab_using_free_gpu.htm)\n",
        "\n",
        "[How to use colab](https://colab.research.google.com/notebooks/basic_features_overview.ipynb)\n",
        "\n",
        "[Check one of the many youtube tutorials.](https://www.youtube.com/watch?v=RLYoEyIHL6A)\n",
        "\n",
        "[A Complete guide to Google Colab for Deep Learning](https://www.kdnuggets.com/2020/06/google-colab-deep-learning.html)\n",
        "\n",
        "[Advanced Google Colab Tips](https://amitness.com/2020/06/google-colaboratory-tips/)\n",
        "\n",
        "\n"
      ]
    },
    {
      "cell_type": "markdown",
      "metadata": {
        "id": "kNAqrM59Sp0S"
      },
      "source": [
        "# Part 3: GitHub"
      ]
    },
    {
      "cell_type": "markdown",
      "metadata": {
        "id": "v1XwYQA7ag9m"
      },
      "source": [
        "**What is Git?**\n",
        "\n",
        "Git is the most commonly used version control system. Git tracks the changes you make to files, so you have a record of what has been done, and you can revert to specific versions should you ever need to. Git also makes collaboration easier, allowing changes by multiple people to all be merged into one source.\n",
        "\n",
        "<img src=\"https://staff.utia.cas.cz/novozada/ml1/git.png\">\n",
        "\n",
        "**What is GitHub?**\n",
        "\n",
        "<a href=\"https://github.com/\"><img src=\"https://staff.utia.cas.cz/novozada/ml1/github_logo.png\"\n",
        " align=\"right\"></a>\n",
        "GitHub is a code hosting platform for version control and collaboration. It lets you and others work together on projects from anywhere.\n",
        "\n",
        "[What is GitHub?](https://www.youtube.com/watch?v=w3jLJU7DT5E)\n",
        "\n",
        "[Start using GitHub.](https://guides.github.com/activities/hello-world/)\n",
        "\n",
        "[Create a repo.](https://docs.github.com/en/get-started/quickstart/create-a-repo)\n",
        "\n"
      ]
    },
    {
      "cell_type": "markdown",
      "metadata": {
        "id": "s51hLtePmLzE"
      },
      "source": [
        "# Part 4: Python Crash Course"
      ]
    },
    {
      "cell_type": "markdown",
      "metadata": {
        "id": "nB5Za7q9rUIn"
      },
      "source": [
        "## Python\n",
        "*   high-level, object-oriented, general purpose programming language\n",
        "*   open source (free to use and distribute, including for commercial purposes)\n",
        "*   interpreted (no need to compile the code)\n",
        "*   simple-to-learn syntax and excellent readability\n",
        "*   large community\n",
        "*   numerous libraries for scientific computing"
      ]
    },
    {
      "cell_type": "markdown",
      "metadata": {
        "id": "LuknXk6W7sXL"
      },
      "source": [
        "**You should know**\n",
        "* [Python code structure, variables, functions, conditions, loops](https://coobas.gitlab.io/python-fjfi/en/posts/zakladni-syntaxe.html)\n",
        "* [Containers: tuple, list, set, dict](https://coobas.gitlab.io/python-fjfi/en/posts/kontejnery.html)\n",
        "* [Object oriented programming](https://coobas.gitlab.io/python-fjfi/en/posts/objektove-orientovane-programovani.html)\n",
        "* Packages: [Numpy](https://coobas.gitlab.io/python-fjfi/en/posts/zaklady-numpy.html), [Matplotlib](https://coobas.gitlab.io/python-fjfi/posts/matplotlib.html)\n",
        "\n",
        "**Learn Python**\n",
        "* [FJFI Python Tutorial](https://coobas.gitlab.io/python-fjfi/)\n",
        "* [Introduction to Python](https://pythonprogramming.net/introduction-learn-python-3-tutorials/)\n",
        "* [Intermediate Python Programming introduction](https://pythonprogramming.net/introduction-intermediate-python-tutorial/)\n",
        "* [Python cheat sheet](https://websitesetup.org/wp-content/uploads/2021/04/Python-cheat-sheet-April-2021.pdf)\n",
        "* [Sharpen your python skills on CodeWars](https://www.codewars.com)\n"
      ]
    },
    {
      "cell_type": "markdown",
      "metadata": {
        "id": "RHFxsV4slGgm"
      },
      "source": [
        "### Variable assignment and basic operations"
      ]
    },
    {
      "cell_type": "markdown",
      "metadata": {
        "id": "2nvGtSoMlGgm"
      },
      "source": [
        "assign number $ 4 $ to variable $ x $ and print the value of $ x $:"
      ]
    },
    {
      "cell_type": "code",
      "metadata": {
        "scrolled": true,
        "id": "9iOX5P4YlGgm",
        "colab": {
          "base_uri": "https://localhost:8080/"
        },
        "outputId": "bff7fed8-1704-45d1-bb10-c12bb540d580"
      },
      "source": [
        "x = 4\n",
        "print(x)\n"
      ],
      "execution_count": null,
      "outputs": [
        {
          "output_type": "stream",
          "name": "stdout",
          "text": [
            "4\n"
          ]
        }
      ]
    },
    {
      "cell_type": "markdown",
      "metadata": {
        "id": "KIsY7yPalGgn"
      },
      "source": [
        "print the type of variable $ x $ using the [`type`](https://docs.python.org/3/library/functions.html#type) function:"
      ]
    },
    {
      "cell_type": "code",
      "metadata": {
        "id": "icmuzpxZlGgo",
        "colab": {
          "base_uri": "https://localhost:8080/"
        },
        "outputId": "f2ec80a4-9b1d-4c3a-fbc6-f43810197855"
      },
      "source": [
        "type(x)"
      ],
      "execution_count": null,
      "outputs": [
        {
          "output_type": "execute_result",
          "data": {
            "text/plain": [
              "int"
            ]
          },
          "metadata": {},
          "execution_count": 65
        }
      ]
    },
    {
      "cell_type": "markdown",
      "metadata": {
        "id": "YMcl0cgelGgo"
      },
      "source": [
        "single-line comments:"
      ]
    },
    {
      "cell_type": "code",
      "metadata": {
        "id": "D7AuSknXlGgo"
      },
      "source": [
        "# this is a single-line comment"
      ],
      "execution_count": null,
      "outputs": []
    },
    {
      "cell_type": "markdown",
      "metadata": {
        "id": "Pf99m4lhlGgp"
      },
      "source": [
        "assign number $ 2 $ to variable $ a $, assign number $ 4 $ to variable $ b $, and print sum, difference, product, and quotient of both variables:"
      ]
    },
    {
      "cell_type": "code",
      "metadata": {
        "scrolled": true,
        "id": "WGTtsWDelGgp",
        "colab": {
          "base_uri": "https://localhost:8080/"
        },
        "outputId": "ac32cd3d-ac2d-41c7-b72e-352d2f18656f"
      },
      "source": [
        "a = 2\n",
        "b = 4\n",
        "print(a + b, a - b, a * b, a / b)"
      ],
      "execution_count": null,
      "outputs": [
        {
          "output_type": "stream",
          "name": "stdout",
          "text": [
            "6 -2 8 0.5\n"
          ]
        }
      ]
    },
    {
      "cell_type": "markdown",
      "metadata": {
        "id": "hUsYdBbPlGgp"
      },
      "source": [
        "assign number $ 2 $ to variable $ c $ and print square-root of $ c $ and $ c $ to the power of $ 2 $ using the `**` operator:"
      ]
    },
    {
      "cell_type": "code",
      "metadata": {
        "id": "jolYQGnVlGgq",
        "colab": {
          "base_uri": "https://localhost:8080/"
        },
        "outputId": "1b90bf40-25b5-4800-8d2b-f1df4f238e4c"
      },
      "source": [
        "c = 2\n",
        "print(c**0.5, c**2)"
      ],
      "execution_count": null,
      "outputs": [
        {
          "output_type": "stream",
          "name": "stdout",
          "text": [
            "1.4142135623730951 4\n"
          ]
        }
      ]
    },
    {
      "cell_type": "markdown",
      "metadata": {
        "id": "Tb4iMQDSlGgq"
      },
      "source": [
        "create a list $ l $ of $ 1 $, $ 2.0 $, $ 3 $, and $ c $ (lists can contain any type of variable) and print the content of $ l $:"
      ]
    },
    {
      "cell_type": "code",
      "metadata": {
        "scrolled": true,
        "id": "QUw57QjclGgq",
        "colab": {
          "base_uri": "https://localhost:8080/"
        },
        "outputId": "d445af77-d89f-41bd-f808-e013dfc3a07d"
      },
      "source": [
        "l = [1, 2.0, 3, \"c\"]\n",
        "print(l)"
      ],
      "execution_count": null,
      "outputs": [
        {
          "output_type": "stream",
          "name": "stdout",
          "text": [
            "[1, 2.0, 3, 'c']\n"
          ]
        }
      ]
    },
    {
      "cell_type": "markdown",
      "metadata": {
        "id": "fupPhH7FlGgq"
      },
      "source": [
        "### Conditions"
      ]
    },
    {
      "cell_type": "markdown",
      "metadata": {
        "id": "Rx8TFRzGlGgr"
      },
      "source": [
        "check if $ x $ is equal to $ 4 $, check if $ x $ is not equal to $ 3 $ using the operators `==` and `!=`:"
      ]
    },
    {
      "cell_type": "code",
      "metadata": {
        "id": "l9etC4smlGgr",
        "colab": {
          "base_uri": "https://localhost:8080/"
        },
        "outputId": "4369146a-588d-44b6-f89a-6e49503de77f"
      },
      "source": [
        "print(x == 4, x != 3)"
      ],
      "execution_count": null,
      "outputs": [
        {
          "output_type": "stream",
          "name": "stdout",
          "text": [
            "True True\n"
          ]
        }
      ]
    },
    {
      "cell_type": "markdown",
      "metadata": {
        "id": "3xr3UaqnlGgr"
      },
      "source": [
        "check if $ x $ is greater than $ 1 $ and less than $ 3 $, check if $ x $ is equal to $ 3 $ or $ 4 $ using the operators `and` and `or`:"
      ]
    },
    {
      "cell_type": "code",
      "metadata": {
        "id": "Usfq8B3jlGgr",
        "colab": {
          "base_uri": "https://localhost:8080/"
        },
        "outputId": "b7c6f03f-537e-45e0-f447-cb82a417ab9a"
      },
      "source": [
        "print(x > 1 and x < 3, x == 3 or x == 4)"
      ],
      "execution_count": null,
      "outputs": [
        {
          "output_type": "stream",
          "name": "stdout",
          "text": [
            "False True\n"
          ]
        }
      ]
    },
    {
      "cell_type": "markdown",
      "metadata": {
        "id": "xJX0Syb9lGgr"
      },
      "source": [
        "if the value of variable $ x $ is less than or equal to $ 3 $, print \"x <= 3\", if the value of variable $ x $ is greater than $ 3 $ and less than $ 5 $, print \"3 < x < 5\", else print \"x >= 5\" using the [`if`](https://docs.python.org/3/reference/compound_stmts.html#if), [`elif`](https://docs.python.org/3/reference/compound_stmts.html#elif), and [`else`](https://docs.python.org/3/reference/compound_stmts.html#else) statements (note that in Python the code blocks must be indented - both tabs and spaces are supported):"
      ]
    },
    {
      "cell_type": "code",
      "metadata": {
        "id": "-Td7TzevlGgs",
        "colab": {
          "base_uri": "https://localhost:8080/"
        },
        "outputId": "027db2e9-0b05-4434-f499-39d04490877c"
      },
      "source": [
        "if x <= 3:\n",
        "    print(\"x <= 3\")\n",
        "elif x > 3 and x < 5:\n",
        "    print(\"3 < x < 5\")\n",
        "else:\n",
        "    print(\"x >= 5\")"
      ],
      "execution_count": null,
      "outputs": [
        {
          "output_type": "stream",
          "name": "stdout",
          "text": [
            "3 < x < 5\n"
          ]
        }
      ]
    },
    {
      "cell_type": "markdown",
      "metadata": {
        "id": "XJcm9sa4lGgs"
      },
      "source": [
        "use the `in` operator to check if the list $ l $ contains character $ c $:"
      ]
    },
    {
      "cell_type": "code",
      "metadata": {
        "id": "mMxNl6eWlGgs",
        "colab": {
          "base_uri": "https://localhost:8080/"
        },
        "outputId": "aba7ae33-6b3f-4be6-ab5c-9e17cbc4af11"
      },
      "source": [
        "print(l)\n",
        "print(\"c\" in l)"
      ],
      "execution_count": null,
      "outputs": [
        {
          "output_type": "stream",
          "name": "stdout",
          "text": [
            "[1, 2.0, 3, 'c']\n",
            "True\n"
          ]
        }
      ]
    },
    {
      "cell_type": "markdown",
      "metadata": {
        "id": "ZX4lrsT5lGgt"
      },
      "source": [
        "use the `in` and `not` operators to check if the number 4 is not in the list $ l $:"
      ]
    },
    {
      "cell_type": "code",
      "metadata": {
        "id": "MShUFMkPlGgt",
        "colab": {
          "base_uri": "https://localhost:8080/"
        },
        "outputId": "f5fbd21a-825b-45d3-dd37-c3221aeb273d"
      },
      "source": [
        "print(4 not in l)"
      ],
      "execution_count": null,
      "outputs": [
        {
          "output_type": "stream",
          "name": "stdout",
          "text": [
            "True\n"
          ]
        }
      ]
    },
    {
      "cell_type": "markdown",
      "metadata": {
        "id": "tDOxvlpDlGgt"
      },
      "source": [
        "### Loops"
      ]
    },
    {
      "cell_type": "markdown",
      "metadata": {
        "id": "qkQYBQeSlGgt"
      },
      "source": [
        "print the sequence of numbers from 0 to 2 using the [`range`](https://docs.python.org/3/library/stdtypes.html#range) function and [`for`](https://docs.python.org/3/reference/compound_stmts.html#the-for-statement) loop (note that the [`range`](https://docs.python.org/3/library/stdtypes.html#range) function is zero based):"
      ]
    },
    {
      "cell_type": "code",
      "metadata": {
        "scrolled": false,
        "id": "T2aF5LM9lGgu",
        "colab": {
          "base_uri": "https://localhost:8080/"
        },
        "outputId": "2be0d0cb-c459-49a8-9b68-d8ddb2bf64be"
      },
      "source": [
        "for i in range(3):\n",
        "    print(i)"
      ],
      "execution_count": null,
      "outputs": [
        {
          "output_type": "stream",
          "name": "stdout",
          "text": [
            "0\n",
            "1\n",
            "2\n"
          ]
        }
      ]
    },
    {
      "cell_type": "markdown",
      "metadata": {
        "id": "1dpKYGqVlGgu"
      },
      "source": [
        "print the sequence of numbers from $ 3 $ to $ 5 $:"
      ]
    },
    {
      "cell_type": "code",
      "metadata": {
        "id": "EmlbFlojlGgu",
        "colab": {
          "base_uri": "https://localhost:8080/"
        },
        "outputId": "9471fd77-7f1c-45d3-83a9-3e2231cd98da"
      },
      "source": [
        "for i in range(3, 6):\n",
        "    print(i)"
      ],
      "execution_count": null,
      "outputs": [
        {
          "output_type": "stream",
          "name": "stdout",
          "text": [
            "3\n",
            "4\n",
            "5\n"
          ]
        }
      ]
    },
    {
      "cell_type": "markdown",
      "metadata": {
        "id": "i99ob1VzlGgu"
      },
      "source": [
        "iterate over a sequence given by list:"
      ]
    },
    {
      "cell_type": "code",
      "metadata": {
        "id": "h9sQap4HlGgv",
        "colab": {
          "base_uri": "https://localhost:8080/"
        },
        "outputId": "c796ee79-fd9b-42b5-83d4-244a185cd64e"
      },
      "source": [
        "for x in [1,5,4]:\n",
        "    print(x)"
      ],
      "execution_count": null,
      "outputs": [
        {
          "output_type": "stream",
          "name": "stdout",
          "text": [
            "1\n",
            "5\n",
            "4\n"
          ]
        }
      ]
    },
    {
      "cell_type": "markdown",
      "metadata": {
        "id": "pMehv2nalGgv"
      },
      "source": [
        "[`while`](https://docs.python.org/3/reference/compound_stmts.html#while) loops repeat as long as a certain boolean condition is met (note that the [`else`](https://docs.python.org/3/reference/compound_stmts.html#else) clause can be used in loops):"
      ]
    },
    {
      "cell_type": "code",
      "metadata": {
        "id": "lD_0yQaplGgv",
        "colab": {
          "base_uri": "https://localhost:8080/"
        },
        "outputId": "c7569c4d-9f33-4e19-f3e2-9837585706f2"
      },
      "source": [
        "k = 10\n",
        "while k > 5:\n",
        "    print(\"k =\", k)\n",
        "    k = k - 1 # or k -= 1\n",
        "else:\n",
        "    print(\"k <= 5\")"
      ],
      "execution_count": null,
      "outputs": [
        {
          "output_type": "stream",
          "name": "stdout",
          "text": [
            "k = 10\n",
            "k = 9\n",
            "k = 8\n",
            "k = 7\n",
            "k = 6\n",
            "k <= 5\n"
          ]
        }
      ]
    },
    {
      "cell_type": "markdown",
      "metadata": {
        "id": "ZKp5DOk5lGgv"
      },
      "source": [
        "### Functions"
      ]
    },
    {
      "cell_type": "markdown",
      "metadata": {
        "id": "2y7pLx5VlGgv"
      },
      "source": [
        "define a function that takes two numbers and returns their product using the `def` keyword:"
      ]
    },
    {
      "cell_type": "code",
      "metadata": {
        "id": "-QHpTQXClGgw",
        "colab": {
          "base_uri": "https://localhost:8080/"
        },
        "outputId": "b80b12e0-74eb-4816-dbd5-08b5fc63aa03"
      },
      "source": [
        "def multiply(x, y):\n",
        "    return x*y\n",
        "\n",
        "print(multiply(2, 415))"
      ],
      "execution_count": null,
      "outputs": [
        {
          "output_type": "stream",
          "name": "stdout",
          "text": [
            "830\n"
          ]
        }
      ]
    },
    {
      "cell_type": "markdown",
      "metadata": {
        "id": "NoJOPq72lGgw"
      },
      "source": [
        "use the [`try`](https://docs.python.org/3/reference/compound_stmts.html#try) and [`except`](https://docs.python.org/3/reference/compound_stmts.html#except) statements to catch the error thrown by `multiply` function when multiplying two strings:"
      ]
    },
    {
      "cell_type": "code",
      "metadata": {
        "id": "M-wIOA4_lGgw",
        "colab": {
          "base_uri": "https://localhost:8080/"
        },
        "outputId": "2692e263-bb7d-4ea3-862a-f7bae51d2d04"
      },
      "source": [
        "try:\n",
        "    print(multiply(\"a\", \"b\"))\n",
        "\n",
        "except Exception as e:\n",
        "    print(\"Caught an exception: \" + str(e))"
      ],
      "execution_count": null,
      "outputs": [
        {
          "output_type": "stream",
          "name": "stdout",
          "text": [
            "Caught an exception: can't multiply sequence by non-int of type 'str'\n"
          ]
        }
      ]
    },
    {
      "cell_type": "markdown",
      "metadata": {
        "id": "xww3LNpNlGgx"
      },
      "source": [
        "redefine the `multiply` function using the `lambda` keyword:"
      ]
    },
    {
      "cell_type": "code",
      "metadata": {
        "id": "O9kF0uMblGgx",
        "colab": {
          "base_uri": "https://localhost:8080/"
        },
        "outputId": "179280f8-d32c-4b3a-fd91-4ad9bc1823e2"
      },
      "source": [
        "multiply = lambda x, y: x**y\n",
        "\n",
        "multiply(2, 3)"
      ],
      "execution_count": null,
      "outputs": [
        {
          "output_type": "execute_result",
          "data": {
            "text/plain": [
              "8"
            ]
          },
          "metadata": {},
          "execution_count": 81
        }
      ]
    },
    {
      "cell_type": "markdown",
      "metadata": {
        "id": "A-AXLL7nybTC"
      },
      "source": [
        "## Python packages"
      ]
    },
    {
      "cell_type": "markdown",
      "metadata": {
        "id": "2nF78aHgtDVi"
      },
      "source": [
        "### Numpy"
      ]
    },
    {
      "cell_type": "markdown",
      "metadata": {
        "id": "Y5QZm6vklGgx"
      },
      "source": [
        "<img src=\"https://staff.utia.cas.cz/novozada/ml1/numpy.png\"> <br />\n",
        "\n",
        "import the [`numpy`](https://numpy.org/) module and bind the import to the local variable `np` (to avoid name collisions and shorten module name):"
      ]
    },
    {
      "cell_type": "code",
      "metadata": {
        "id": "rU8rA6ualGgx"
      },
      "source": [
        "import numpy as np"
      ],
      "execution_count": null,
      "outputs": []
    },
    {
      "cell_type": "markdown",
      "metadata": {
        "id": "770FxAWNlGgy"
      },
      "source": [
        "print $ \\sqrt{4} $, $ \\left|-1 \\right| $, $ \\exp{(1)} $, $ \\ln{(e)} $, $ \\sin{(\\pi)}$, and $ \\cos{(\\pi)} $ using the functions from [`numpy`](https://numpy.org/) module:"
      ]
    },
    {
      "cell_type": "code",
      "metadata": {
        "id": "jcV-Rt2-lGgy",
        "colab": {
          "base_uri": "https://localhost:8080/"
        },
        "outputId": "e676fdef-9e2e-4080-ea4f-7876bc080dd1"
      },
      "source": [
        "print(np.sqrt(4), np.abs(-1), np.exp(1), np.log(np.e), np.sin(np.pi), np.cos(np.pi))"
      ],
      "execution_count": null,
      "outputs": [
        {
          "output_type": "stream",
          "name": "stdout",
          "text": [
            "2.0 1 2.718281828459045 1.0 1.2246467991473532e-16 -1.0\n"
          ]
        }
      ]
    },
    {
      "cell_type": "markdown",
      "metadata": {
        "id": "d5J68iBplGgy"
      },
      "source": [
        "create a vector $ v $ of numbers from $ 1 $ to $ 9 $ using the [`array`](https://numpy.org/doc/stable/reference/generated/numpy.array.html) function:"
      ]
    },
    {
      "cell_type": "code",
      "metadata": {
        "id": "qAy65GWXlGgy",
        "colab": {
          "base_uri": "https://localhost:8080/"
        },
        "outputId": "1e6f13d6-4e5c-4f37-fb38-75e278437f55"
      },
      "source": [
        "v = np.array([1, 2, 3, 4, 5, 6, 7, 8, 9])\n",
        "print(v)\n",
        "print([x**2 for x in v])"
      ],
      "execution_count": null,
      "outputs": [
        {
          "output_type": "stream",
          "name": "stdout",
          "text": [
            "[1 2 3 4 5 6 7 8 9]\n",
            "[1, 4, 9, 16, 25, 36, 49, 64, 81]\n"
          ]
        }
      ]
    },
    {
      "cell_type": "markdown",
      "metadata": {
        "id": "KEUe9XETlGgy"
      },
      "source": [
        "create a $ 3 \\times 3 $ matrix $ \\mathbb{M} $ of numbers from $ 1 $ to $ 9 $ using the [`array`](https://numpy.org/doc/stable/reference/generated/numpy.array.html) function:"
      ]
    },
    {
      "cell_type": "code",
      "metadata": {
        "id": "yOGeAS1elGgz",
        "colab": {
          "base_uri": "https://localhost:8080/"
        },
        "outputId": "6088a446-b325-478e-94b9-c90d9986d0f3"
      },
      "source": [
        "M = np.array([[1, 2, 3], [4, 5, 6], [7, 8, 9]])\n",
        "print(M)"
      ],
      "execution_count": null,
      "outputs": [
        {
          "output_type": "stream",
          "name": "stdout",
          "text": [
            "[[1 2 3]\n",
            " [4 5 6]\n",
            " [7 8 9]]\n"
          ]
        }
      ]
    },
    {
      "cell_type": "markdown",
      "metadata": {
        "id": "-R9vk80ElGgz"
      },
      "source": [
        "print the dimensions of the vector $ v $ and matrix $ \\mathbb{M} $ using the [`shape`](https://numpy.org/doc/stable/reference/generated/numpy.shape.html) function:"
      ]
    },
    {
      "cell_type": "code",
      "metadata": {
        "id": "hB1ayMuPlGgz",
        "colab": {
          "base_uri": "https://localhost:8080/"
        },
        "outputId": "6d900204-98bf-4389-a4c6-5a84d360c390"
      },
      "source": [
        "print(np.shape(v), np.shape(M))"
      ],
      "execution_count": null,
      "outputs": [
        {
          "output_type": "stream",
          "name": "stdout",
          "text": [
            "(9,) (3, 3)\n"
          ]
        }
      ]
    },
    {
      "cell_type": "markdown",
      "metadata": {
        "id": "e7kXU1_ZlGgz"
      },
      "source": [
        "print number of elements of the vector $ v $ and matrix $ \\mathbb{M} $ using the [`size`](https://numpy.org/doc/stable/reference/generated/numpy.ndarray.size.html) function:"
      ]
    },
    {
      "cell_type": "code",
      "metadata": {
        "scrolled": true,
        "id": "cVOxZRIAlGgz",
        "colab": {
          "base_uri": "https://localhost:8080/"
        },
        "outputId": "1b1cc26f-ced0-40f2-bf94-15803a590c4b"
      },
      "source": [
        "print(np.size(v), np.size(M))"
      ],
      "execution_count": null,
      "outputs": [
        {
          "output_type": "stream",
          "name": "stdout",
          "text": [
            "9 9\n"
          ]
        }
      ]
    },
    {
      "cell_type": "markdown",
      "metadata": {
        "id": "9Hh3lhUdlGgz"
      },
      "source": [
        "print the scalar product $ v \\cdot v $ using the [`dot`](https://numpy.org/doc/stable/reference/generated/numpy.dot.html) function (compare with the element-wise multiplication using the operator `*`):"
      ]
    },
    {
      "cell_type": "code",
      "metadata": {
        "id": "dr6ZGrZ5lGg0",
        "colab": {
          "base_uri": "https://localhost:8080/"
        },
        "outputId": "f9ed28f4-9589-4642-99d3-cf089ec59edf"
      },
      "source": [
        "print(np.dot(v, v)) # alternatively v @ v\n",
        "print(v * v)"
      ],
      "execution_count": null,
      "outputs": [
        {
          "output_type": "stream",
          "name": "stdout",
          "text": [
            "285\n",
            "[ 1  4  9 16 25 36 49 64 81]\n"
          ]
        }
      ]
    },
    {
      "cell_type": "markdown",
      "metadata": {
        "id": "YJZ28mO1lGg0"
      },
      "source": [
        "print the matrix product $ \\mathbb{M} \\cdot \\mathbb{M} $ using the [`dot`](https://numpy.org/doc/stable/reference/generated/numpy.dot.html) function (compare with the element-wise multiplication using the operator `*`):"
      ]
    },
    {
      "cell_type": "code",
      "metadata": {
        "scrolled": false,
        "id": "DAzcSabHlGg0",
        "colab": {
          "base_uri": "https://localhost:8080/"
        },
        "outputId": "6cbab858-99f5-4d01-b173-34d72e6b79e8"
      },
      "source": [
        "print(np.dot(M, M))# alternatively M @ M\n",
        "print(M * M)"
      ],
      "execution_count": null,
      "outputs": [
        {
          "output_type": "stream",
          "name": "stdout",
          "text": [
            "[[ 30  36  42]\n",
            " [ 66  81  96]\n",
            " [102 126 150]]\n",
            "[[ 1  4  9]\n",
            " [16 25 36]\n",
            " [49 64 81]]\n"
          ]
        }
      ]
    },
    {
      "cell_type": "markdown",
      "metadata": {
        "id": "QVazuARnlGg0"
      },
      "source": [
        "print the first, last, and the sixth element of vector $ v $:"
      ]
    },
    {
      "cell_type": "code",
      "metadata": {
        "scrolled": true,
        "id": "35nTCbvblGg0",
        "colab": {
          "base_uri": "https://localhost:8080/"
        },
        "outputId": "9ccd43e6-3284-4b75-a818-de33447bcc67"
      },
      "source": [
        "print(v)\n",
        "print(v[0], v[-1], v[5], v[-2])"
      ],
      "execution_count": null,
      "outputs": [
        {
          "output_type": "stream",
          "name": "stdout",
          "text": [
            "[1 2 3 4 5 6 7 8 9]\n",
            "1 9 6 8\n"
          ]
        }
      ]
    },
    {
      "cell_type": "markdown",
      "metadata": {
        "id": "PsnrdTX-lGg1"
      },
      "source": [
        "print the first five, last four, and each second element of vector $ v $ using the numpy array [indexing](https://numpy.org/doc/stable/reference/arrays.indexing.html):"
      ]
    },
    {
      "cell_type": "code",
      "metadata": {
        "id": "LpCYe4MklGg1",
        "colab": {
          "base_uri": "https://localhost:8080/"
        },
        "outputId": "b3cfb58c-931e-40e5-80ae-744d2df7247d"
      },
      "source": [
        "print(v[:5], v[5:], v[::2])"
      ],
      "execution_count": null,
      "outputs": [
        {
          "output_type": "stream",
          "name": "stdout",
          "text": [
            "[1 2 3 4 5] [6 7 8 9] [1 3 5 7 9]\n"
          ]
        }
      ]
    },
    {
      "cell_type": "markdown",
      "metadata": {
        "id": "z97gIXqTlGg1"
      },
      "source": [
        "print the $ \\mathbb{M}_{0, 0} $ element, the first row, and the second column of matrix $ \\mathbb{M} $:"
      ]
    },
    {
      "cell_type": "code",
      "metadata": {
        "scrolled": true,
        "id": "RPTWSAVtlGg1",
        "colab": {
          "base_uri": "https://localhost:8080/"
        },
        "outputId": "b46035f6-3f8e-4cb8-ffef-075125004fa1"
      },
      "source": [
        "print(M[0, 0], M[0, :], M[:, 1])"
      ],
      "execution_count": null,
      "outputs": [
        {
          "output_type": "stream",
          "name": "stdout",
          "text": [
            "1 [1 2 3] [2 5 8]\n"
          ]
        }
      ]
    },
    {
      "cell_type": "markdown",
      "metadata": {
        "id": "sKiLHrDxlGg1"
      },
      "source": [
        "create evenly spaced vector $ x $ of size $ 5 $ from $ -2 $ to $ 2 $ using the [`linspace`](https://numpy.org/doc/stable/reference/generated/numpy.linspace.html) function"
      ]
    },
    {
      "cell_type": "code",
      "metadata": {
        "id": "ptJ94CQglGg1",
        "colab": {
          "base_uri": "https://localhost:8080/"
        },
        "outputId": "49d23fea-9491-45c0-8752-b38b326aa29e"
      },
      "source": [
        "x = np.linspace(-2, 2, 5)\n",
        "print(x)"
      ],
      "execution_count": null,
      "outputs": [
        {
          "output_type": "stream",
          "name": "stdout",
          "text": [
            "[-2. -1.  0.  1.  2.]\n"
          ]
        }
      ]
    },
    {
      "cell_type": "markdown",
      "metadata": {
        "id": "49qAiMT5lGg2"
      },
      "source": [
        "create evenly spaced vector $ x $ of size $ 5 $ from $ -2 $ to $ 2 $ using the [`linspace`](https://numpy.org/doc/stable/reference/generated/numpy.linspace.html) function and print the step size:"
      ]
    },
    {
      "cell_type": "code",
      "metadata": {
        "id": "u13SEYaulGg2",
        "colab": {
          "base_uri": "https://localhost:8080/"
        },
        "outputId": "0a0fd652-7540-4481-8320-2265f910e797"
      },
      "source": [
        "x, h = np.linspace(-2, 2, 50, retstep=True)\n",
        "print(h)"
      ],
      "execution_count": null,
      "outputs": [
        {
          "output_type": "stream",
          "name": "stdout",
          "text": [
            "0.08163265306122448\n"
          ]
        }
      ]
    },
    {
      "cell_type": "markdown",
      "metadata": {
        "id": "9evRuF6llGg2"
      },
      "source": [
        "create evenly spaced vector $ x $ from $ -2 $ to $ 2 $ with a step of size $ 1 $ using the [`arange`](https://numpy.org/doc/stable/reference/generated/numpy.arange.html) function:"
      ]
    },
    {
      "cell_type": "code",
      "metadata": {
        "id": "kTq6DovIlGg2",
        "colab": {
          "base_uri": "https://localhost:8080/"
        },
        "outputId": "125aac17-c570-4a41-e4a0-22c6930d6846"
      },
      "source": [
        "x = np.arange(-2, 3, 1.0)\n",
        "print(x)"
      ],
      "execution_count": null,
      "outputs": [
        {
          "output_type": "stream",
          "name": "stdout",
          "text": [
            "[-2. -1.  0.  1.  2.]\n"
          ]
        }
      ]
    },
    {
      "cell_type": "markdown",
      "metadata": {
        "id": "Sat4qJJNlGg2"
      },
      "source": [
        "create a matrix from the vector $ x $ using the [`meshgrid`](https://numpy.org/doc/stable/reference/generated/numpy.meshgrid.html) function:"
      ]
    },
    {
      "cell_type": "code",
      "metadata": {
        "id": "xCREOGfhlGg3",
        "colab": {
          "base_uri": "https://localhost:8080/"
        },
        "outputId": "d76aae5d-b9a4-429f-cf1c-0e81332999c8"
      },
      "source": [
        "xx, yy = np.meshgrid(x, x)\n",
        "print(xx)\n",
        "print(yy)"
      ],
      "execution_count": null,
      "outputs": [
        {
          "output_type": "stream",
          "name": "stdout",
          "text": [
            "[[-2. -1.  0.  1.  2.]\n",
            " [-2. -1.  0.  1.  2.]\n",
            " [-2. -1.  0.  1.  2.]\n",
            " [-2. -1.  0.  1.  2.]\n",
            " [-2. -1.  0.  1.  2.]]\n",
            "[[-2. -2. -2. -2. -2.]\n",
            " [-1. -1. -1. -1. -1.]\n",
            " [ 0.  0.  0.  0.  0.]\n",
            " [ 1.  1.  1.  1.  1.]\n",
            " [ 2.  2.  2.  2.  2.]]\n"
          ]
        }
      ]
    },
    {
      "cell_type": "markdown",
      "metadata": {
        "id": "dycP0vpolGg3"
      },
      "source": [
        "create a vector of zeros of size $ 3 $ using the [`zeros`](https://numpy.org/doc/stable/reference/generated/numpy.zeros.html) function:"
      ]
    },
    {
      "cell_type": "code",
      "metadata": {
        "scrolled": true,
        "id": "XfSiNRsJlGg3",
        "colab": {
          "base_uri": "https://localhost:8080/"
        },
        "outputId": "14c4c177-49a6-4a3f-922f-81f753de27ff"
      },
      "source": [
        "z = np.zeros(10)\n",
        "print(z)"
      ],
      "execution_count": null,
      "outputs": [
        {
          "output_type": "stream",
          "name": "stdout",
          "text": [
            "[0. 0. 0. 0. 0. 0. 0. 0. 0. 0.]\n"
          ]
        }
      ]
    },
    {
      "cell_type": "markdown",
      "metadata": {
        "id": "J_4lfmunlGg3"
      },
      "source": [
        "create a $ 3 \\times 3$ matrix of zeros using the [`zeros`](https://numpy.org/doc/stable/reference/generated/numpy.zeros.html) function:"
      ]
    },
    {
      "cell_type": "code",
      "metadata": {
        "scrolled": true,
        "id": "vdWDsdrqlGg3",
        "colab": {
          "base_uri": "https://localhost:8080/"
        },
        "outputId": "8838005d-5673-45d2-c909-96aa94f336dd"
      },
      "source": [
        "Z = np.zeros((3, 3))\n",
        "print(Z)"
      ],
      "execution_count": null,
      "outputs": [
        {
          "output_type": "stream",
          "name": "stdout",
          "text": [
            "[[0. 0. 0.]\n",
            " [0. 0. 0.]\n",
            " [0. 0. 0.]]\n"
          ]
        }
      ]
    },
    {
      "cell_type": "markdown",
      "metadata": {
        "id": "291Kb8Z0lGg3"
      },
      "source": [
        "create a $ 3 \\times 3 $ matrix with ones on the diagonal and zeros elsewhere using the [`eye`](https://numpy.org/doc/stable/reference/generated/numpy.eye.html) function:"
      ]
    },
    {
      "cell_type": "code",
      "metadata": {
        "scrolled": true,
        "id": "JRGNX6OzlGg4",
        "colab": {
          "base_uri": "https://localhost:8080/"
        },
        "outputId": "1fa08c44-1382-4859-86ec-74b9678f3f7d"
      },
      "source": [
        "D = np.eye(3)\n",
        "print(D)"
      ],
      "execution_count": null,
      "outputs": [
        {
          "output_type": "stream",
          "name": "stdout",
          "text": [
            "[[1. 0. 0.]\n",
            " [0. 1. 0.]\n",
            " [0. 0. 1.]]\n"
          ]
        }
      ]
    },
    {
      "cell_type": "markdown",
      "metadata": {
        "id": "JIyAAn3IlGg4"
      },
      "source": [
        "create a $ 3 \\times 3 $ matrix filled with ones using the [`ones`](https://numpy.org/doc/stable/reference/generated/numpy.ones.html) function:"
      ]
    },
    {
      "cell_type": "code",
      "metadata": {
        "scrolled": true,
        "id": "vDCPNRFYlGg4",
        "colab": {
          "base_uri": "https://localhost:8080/"
        },
        "outputId": "8e13f394-5fdf-47b1-9e75-23020457b1a6"
      },
      "source": [
        "O = np.ones((3, 3))\n",
        "print(O)"
      ],
      "execution_count": null,
      "outputs": [
        {
          "output_type": "stream",
          "name": "stdout",
          "text": [
            "[[1. 1. 1.]\n",
            " [1. 1. 1.]\n",
            " [1. 1. 1.]]\n"
          ]
        }
      ]
    },
    {
      "cell_type": "markdown",
      "metadata": {
        "id": "s0KqBfbGlGg4"
      },
      "source": [
        "create a $ 3 \\times 3 $ matrix filled with random floating point numbers between $ 0 $ and $ 1 $ using the [`rand`](https://numpy.org/doc/stable/reference/random/generated/numpy.random.rand.html) function:"
      ]
    },
    {
      "cell_type": "code",
      "metadata": {
        "id": "Wx1xi9NblGg4",
        "colab": {
          "base_uri": "https://localhost:8080/"
        },
        "outputId": "348d4a7f-68d3-480e-fb66-23af43483121"
      },
      "source": [
        "R = np.random.rand(3, 3)\n",
        "print(R)"
      ],
      "execution_count": null,
      "outputs": [
        {
          "output_type": "stream",
          "name": "stdout",
          "text": [
            "[[0.83459919 0.91007039 0.94950294]\n",
            " [0.40058157 0.86331703 0.31401242]\n",
            " [0.50035131 0.75682908 0.40781432]]\n"
          ]
        }
      ]
    },
    {
      "cell_type": "markdown",
      "metadata": {
        "id": "DKpWxX9dlGg5"
      },
      "source": [
        "create a $ 3 \\times 3 $ matrix with the vector $ (1, 2, 3) $ on the diagonal using the [`diag`](https://numpy.org/doc/stable/reference/generated/numpy.diag.html) function:"
      ]
    },
    {
      "cell_type": "code",
      "metadata": {
        "scrolled": false,
        "id": "gnxXwVVTlGg5",
        "colab": {
          "base_uri": "https://localhost:8080/"
        },
        "outputId": "3daaa70c-ca3d-4e83-f6b9-919309350cde"
      },
      "source": [
        "print(np.diag([1,2,3,4,5], 0))\n",
        "print('dad')\n",
        "print(np.diag([1,2,3,4,5], 1))\n",
        "print('dad')\n",
        "print(np.diag([1,2,3,4,5], -2))"
      ],
      "execution_count": null,
      "outputs": [
        {
          "output_type": "stream",
          "name": "stdout",
          "text": [
            "[[1 0 0 0 0]\n",
            " [0 2 0 0 0]\n",
            " [0 0 3 0 0]\n",
            " [0 0 0 4 0]\n",
            " [0 0 0 0 5]]\n",
            "dad\n",
            "[[0 1 0 0 0 0]\n",
            " [0 0 2 0 0 0]\n",
            " [0 0 0 3 0 0]\n",
            " [0 0 0 0 4 0]\n",
            " [0 0 0 0 0 5]\n",
            " [0 0 0 0 0 0]]\n",
            "dad\n",
            "[[0 0 0 0 0 0 0]\n",
            " [0 0 0 0 0 0 0]\n",
            " [1 0 0 0 0 0 0]\n",
            " [0 2 0 0 0 0 0]\n",
            " [0 0 3 0 0 0 0]\n",
            " [0 0 0 4 0 0 0]\n",
            " [0 0 0 0 5 0 0]]\n"
          ]
        }
      ]
    },
    {
      "cell_type": "markdown",
      "metadata": {
        "id": "-D39uiZulGg5"
      },
      "source": [
        "extract the main diagonal, and the diagonals above and below the main diagonal from matrix $ \\mathbb{M} $ using the [`diag`](https://numpy.org/doc/stable/reference/generated/numpy.diag.html) function:"
      ]
    },
    {
      "cell_type": "code",
      "metadata": {
        "id": "SAUG6DgZlGg5",
        "colab": {
          "base_uri": "https://localhost:8080/"
        },
        "outputId": "334ac0e9-6b9d-4b57-fc01-cbf1c04f9c19"
      },
      "source": [
        "print(np.diag(M, 0), np.diag(M, 1), np.diag(M, -1))"
      ],
      "execution_count": null,
      "outputs": [
        {
          "output_type": "stream",
          "name": "stdout",
          "text": [
            "[1 5 9] [2 6] [4 8]\n"
          ]
        }
      ]
    },
    {
      "cell_type": "markdown",
      "metadata": {
        "id": "l8FN6ooMlGg5"
      },
      "source": [
        "set all elements of matrix $ \\mathbb{M} $ below and above diagonal to zero using the [`triu`](https://numpy.org/doc/stable/reference/generated/numpy.triu.html) and [`tril`](https://numpy.org/doc/stable/reference/generated/numpy.tril.html) functions:"
      ]
    },
    {
      "cell_type": "code",
      "metadata": {
        "id": "dq-mKo1flGg5",
        "colab": {
          "base_uri": "https://localhost:8080/"
        },
        "outputId": "50cf89cd-c2ff-4150-da47-b3e0f532d224"
      },
      "source": [
        "print(np.triu(M))\n",
        "print(np.tril(M))"
      ],
      "execution_count": null,
      "outputs": [
        {
          "output_type": "stream",
          "name": "stdout",
          "text": [
            "[[1 2 3]\n",
            " [0 5 6]\n",
            " [0 0 9]]\n",
            "[[1 0 0]\n",
            " [4 5 0]\n",
            " [7 8 9]]\n"
          ]
        }
      ]
    },
    {
      "cell_type": "markdown",
      "metadata": {
        "id": "1DK1K5USlGg6"
      },
      "source": [
        "print minimum and maximum elements, index of minimum and maximum elements, and the sum of vector $ v $ using the [`min`](https://numpy.org/doc/stable/reference/generated/numpy.ndarray.min.html), [`max`](https://numpy.org/doc/stable/reference/generated/numpy.ndarray.max.html), [`argmin`](https://numpy.org/doc/stable/reference/generated/numpy.argmin.html), [`argmax`](https://numpy.org/doc/stable/reference/generated/numpy.argmax.html), and [`sum`](https://numpy.org/doc/stable/reference/generated/numpy.sum.html) functions:"
      ]
    },
    {
      "cell_type": "code",
      "metadata": {
        "id": "4NNt1RkclGg6",
        "colab": {
          "base_uri": "https://localhost:8080/"
        },
        "outputId": "28b66a14-0eb4-45a0-d104-5007036ebe5f"
      },
      "source": [
        "print(np.min(v), np.max(v), np.argmin(v), np.argmax(v), np.sum(v))"
      ],
      "execution_count": null,
      "outputs": [
        {
          "output_type": "stream",
          "name": "stdout",
          "text": [
            "1 9 0 8 45\n"
          ]
        }
      ]
    },
    {
      "cell_type": "markdown",
      "metadata": {
        "id": "Zi-Ea5S9lGg6"
      },
      "source": [
        "print even numbers of vector $ v $ and their indices using the [`where`](https://numpy.org/doc/stable/reference/generated/numpy.where.html), and [`mod`](https://numpy.org/doc/stable/reference/generated/numpy.mod.html) functions:"
      ]
    },
    {
      "cell_type": "code",
      "metadata": {
        "scrolled": false,
        "id": "FTBBXIUtlGg6",
        "colab": {
          "base_uri": "https://localhost:8080/"
        },
        "outputId": "42e3eeb5-7519-4a21-f4fb-7ac5d6ceefa9"
      },
      "source": [
        "print(v)\n",
        "even = np.where(np.mod(v, 2) == 0)\n",
        "print(v[even])"
      ],
      "execution_count": null,
      "outputs": [
        {
          "output_type": "stream",
          "name": "stdout",
          "text": [
            "[1 2 3 4 5 6 7 8 9]\n",
            "[2 4 6 8]\n"
          ]
        }
      ]
    },
    {
      "cell_type": "markdown",
      "metadata": {
        "id": "IhwdXa9jlGg7"
      },
      "source": [
        "assign vector $ v $ to vector $ v_2 $ using the `=` operator (note that if you modify one in place, you'll see the change through the other one too):"
      ]
    },
    {
      "cell_type": "code",
      "metadata": {
        "scrolled": true,
        "id": "PpVCeHE7lGg7",
        "colab": {
          "base_uri": "https://localhost:8080/"
        },
        "outputId": "e19e2c8c-3738-4aa8-b852-999dadb9f431"
      },
      "source": [
        "print(v)\n",
        "v2 = v        # adresa na stejný místo\n",
        "v2[0] = -1\n",
        "print(v)\n",
        "print(v2)"
      ],
      "execution_count": null,
      "outputs": [
        {
          "output_type": "stream",
          "name": "stdout",
          "text": [
            "[1 2 3 4 5 6 7 8 9]\n",
            "[-1  2  3  4  5  6  7  8  9]\n",
            "[-1  2  3  4  5  6  7  8  9]\n"
          ]
        }
      ]
    },
    {
      "cell_type": "markdown",
      "metadata": {
        "id": "ofDeyf2zlGg7"
      },
      "source": [
        "copy the vector $ v $ to vector $ v_3 $ using the [`copy`](https://numpy.org/doc/stable/reference/generated/numpy.copy.html) function:"
      ]
    },
    {
      "cell_type": "code",
      "metadata": {
        "id": "vqe7fNbHlGg7",
        "colab": {
          "base_uri": "https://localhost:8080/"
        },
        "outputId": "ef495add-5e68-4918-9fe1-30df81210d78"
      },
      "source": [
        "v3 = np.copy(v)\n",
        "v3[0] = -2\n",
        "print(v)\n",
        "print(v3)"
      ],
      "execution_count": null,
      "outputs": [
        {
          "output_type": "stream",
          "name": "stdout",
          "text": [
            "[-1  2  3  4  5  6  7  8  9]\n",
            "[-2  2  3  4  5  6  7  8  9]\n"
          ]
        }
      ]
    },
    {
      "cell_type": "markdown",
      "metadata": {
        "id": "7yODC90WlGg7"
      },
      "source": [
        "create vector $ v_4 $ by appending $ 0 $ to the end of vector $ v $ using the [`append`](https://numpy.org/doc/stable/reference/generated/numpy.append.html) function:"
      ]
    },
    {
      "cell_type": "code",
      "metadata": {
        "id": "j1f9Ke0slGg8",
        "colab": {
          "base_uri": "https://localhost:8080/"
        },
        "outputId": "3ce4e312-709e-4660-fcf1-8d9015bf48df"
      },
      "source": [
        "v4 = np.append(v, 0)\n",
        "print(v)\n",
        "print(v4)"
      ],
      "execution_count": null,
      "outputs": [
        {
          "output_type": "stream",
          "name": "stdout",
          "text": [
            "[-1  2  3  4  5  6  7  8  9]\n",
            "[-1  2  3  4  5  6  7  8  9  0]\n"
          ]
        }
      ]
    },
    {
      "cell_type": "markdown",
      "metadata": {
        "id": "Ss4mGoGKlGg8"
      },
      "source": [
        "create vector $ v_5 $ by inserting $ -5 $ as a sixth element to vector $ v $ using the [`insert`](https://numpy.org/doc/stable/reference/generated/numpy.insert.html) function:"
      ]
    },
    {
      "cell_type": "code",
      "metadata": {
        "scrolled": false,
        "id": "Uti2pbF0lGg8",
        "colab": {
          "base_uri": "https://localhost:8080/"
        },
        "outputId": "3f82081c-9b76-4d72-bc4d-2ed9af60775e"
      },
      "source": [
        "v[5] = -123\n",
        "print(v)\n",
        "v5 = np.insert(v, 5, -5)\n",
        "print(v5)"
      ],
      "execution_count": null,
      "outputs": [
        {
          "output_type": "stream",
          "name": "stdout",
          "text": [
            "[  -1    2    3    4    5 -123    7    8    9]\n",
            "[  -1    2    3    4    5   -5 -123    7    8    9]\n"
          ]
        }
      ]
    },
    {
      "cell_type": "markdown",
      "metadata": {
        "id": "7QhfVVjAlGg8"
      },
      "source": [
        "create vector $ v_6 $ by concatenating vectors $ v_4 $ and $ v_5 $ using the [`concatenate`](https://numpy.org/doc/stable/reference/generated/numpy.concatenate.html) function:"
      ]
    },
    {
      "cell_type": "code",
      "metadata": {
        "id": "SemlWfOplGg8",
        "colab": {
          "base_uri": "https://localhost:8080/"
        },
        "outputId": "9934ba03-2994-4920-ea8b-c5dc4139a02f"
      },
      "source": [
        "v6 = np.concatenate((v4, v5))\n",
        "print(v6)"
      ],
      "execution_count": null,
      "outputs": [
        {
          "output_type": "stream",
          "name": "stdout",
          "text": [
            "[  -1    2    3    4    5    6    7    8    9    0   -1    2    3    4\n",
            "    5   -5 -123    7    8    9]\n"
          ]
        }
      ]
    },
    {
      "cell_type": "markdown",
      "metadata": {
        "id": "XcIfcSo4lGg9"
      },
      "source": [
        "create polynomial $ p = x^3 + 2x^2 + 3x + 2 $ using the [`poly1d`](https://numpy.org/doc/stable/reference/generated/numpy.poly1d.html) function:"
      ]
    },
    {
      "cell_type": "code",
      "metadata": {
        "scrolled": true,
        "id": "PG45AX6VlGg9",
        "colab": {
          "base_uri": "https://localhost:8080/"
        },
        "outputId": "88365672-78b4-45ef-f6c1-033e6c07125e"
      },
      "source": [
        "p = np.poly1d([1, 2, 3, 2])\n",
        "print(p)"
      ],
      "execution_count": null,
      "outputs": [
        {
          "output_type": "stream",
          "name": "stdout",
          "text": [
            "   3     2\n",
            "1 x + 2 x + 3 x + 2\n"
          ]
        }
      ]
    },
    {
      "cell_type": "markdown",
      "metadata": {
        "id": "sOj38Y9TlGg9"
      },
      "source": [
        "Further reading: https://numpy.org/doc/stable/reference/"
      ]
    },
    {
      "cell_type": "markdown",
      "metadata": {
        "id": "HZiWgUu2lGg9"
      },
      "source": [
        "### Scipy"
      ]
    },
    {
      "cell_type": "markdown",
      "metadata": {
        "id": "7N4mPtFPlGg9"
      },
      "source": [
        "<img src=\"https://staff.utia.cas.cz/novozada/ml1/scipy.png\"> <br />\n",
        "\n",
        "import scientific constants from the [`scipy`](https://www.scipy.org/) module and print $ \\pi $, golden_ratio, and speed of light in vacuum:"
      ]
    },
    {
      "cell_type": "code",
      "metadata": {
        "id": "Fg3g4unHlGg9",
        "colab": {
          "base_uri": "https://localhost:8080/"
        },
        "outputId": "226fc751-ed56-4020-fd4b-221f1aacfb31"
      },
      "source": [
        "from scipy.constants import pi, golden_ratio, c\n",
        "print(pi, golden_ratio, c)"
      ],
      "execution_count": null,
      "outputs": [
        {
          "output_type": "stream",
          "name": "stdout",
          "text": [
            "3.141592653589793 1.618033988749895 299792458.0\n"
          ]
        }
      ]
    },
    {
      "cell_type": "markdown",
      "metadata": {
        "id": "EZ3qjH7MlGg-"
      },
      "source": [
        "import various submodules from [`scipy`](https://www.scipy.org/) that will be useful throughout the course:"
      ]
    },
    {
      "cell_type": "code",
      "metadata": {
        "id": "RIKsrCp7lGg-"
      },
      "source": [
        "import scipy.linalg # linear algebra\n",
        "import scipy.interpolate # interpolation and curve fitting\n",
        "import scipy.optimize # minima, maxima, root finding\n",
        "import scipy.integrate # numerical integration and solving of ODEs"
      ],
      "execution_count": null,
      "outputs": []
    },
    {
      "cell_type": "markdown",
      "metadata": {
        "id": "MOroMTfZlGg-"
      },
      "source": [
        "Further reading: https://docs.scipy.org/doc/scipy/reference/"
      ]
    },
    {
      "cell_type": "markdown",
      "metadata": {
        "id": "Cz9AKYehlGg-"
      },
      "source": [
        "### Matplotlib"
      ]
    },
    {
      "cell_type": "markdown",
      "metadata": {
        "id": "JaBaUQg3lGg-"
      },
      "source": [
        "<img src=\"https://staff.utia.cas.cz/novozada/ml1/matplotlib.png\"> <br />\n",
        "\n",
        "\n",
        "import [`pyplot`](https://matplotlib.org/stable/api/_as_gen/matplotlib.pyplot.html) submodule from [`matplotlib`](https://matplotlib.org/) and bind the import to the local variable `plt`:"
      ]
    },
    {
      "cell_type": "code",
      "metadata": {
        "id": "Lg1OkCxmlGg-"
      },
      "source": [
        "import matplotlib.pyplot as plt"
      ],
      "execution_count": null,
      "outputs": []
    },
    {
      "cell_type": "markdown",
      "metadata": {
        "id": "nILyiZWtlGg_"
      },
      "source": [
        "plot $ \\sin{(x)} $ and $ \\cos{(x)} $ functions for $ x \\in [0, 10] $ using the [`plot`](https://matplotlib.org/stable/api/_as_gen/matplotlib.pyplot.plot.html) function:"
      ]
    },
    {
      "cell_type": "code",
      "metadata": {
        "id": "PUNWdqmdlGg_",
        "colab": {
          "base_uri": "https://localhost:8080/",
          "height": 430
        },
        "outputId": "cd816a5b-b796-4a9a-b7d6-86fe49fcbe70"
      },
      "source": [
        "x = np.linspace(0, 10, 100)\n",
        "fig, ax = plt.subplots()\n",
        "ax.plot(x, np.sin(x))\n",
        "ax.plot(x, np.cos(x))\n",
        "plt.show()"
      ],
      "execution_count": null,
      "outputs": [
        {
          "output_type": "display_data",
          "data": {
            "text/plain": [
              "<Figure size 640x480 with 1 Axes>"
            ],
            "image/png": "[encoded data removed]"
          },
          "metadata": {}
        }
      ]
    },
    {
      "cell_type": "markdown",
      "metadata": {
        "id": "v8DnDItmlGhA"
      },
      "source": [
        "plot the functions $ y(x) = x $ and $ y(x) = x^2 $ for $ x \\in [0, 10] $ and show the plots next to each other:"
      ]
    },
    {
      "cell_type": "code",
      "metadata": {
        "scrolled": true,
        "id": "e5IJ6PzzlGhA",
        "colab": {
          "base_uri": "https://localhost:8080/",
          "height": 487
        },
        "outputId": "d9e43fae-6549-4ae6-bbca-6d61252697b3"
      },
      "source": [
        "fig, ax = plt.subplots(nrows=1, ncols=2)\n",
        "\n",
        "ax[0].plot(x, x, color=\"green\")\n",
        "ax[0].set_xlabel(\"x\")\n",
        "ax[0].set_ylabel(\"y\")\n",
        "\n",
        "ax[1].plot(x, x**2, color=\"blue\")\n",
        "ax[1].set_xlabel(\"x\")\n",
        "ax[1].set_ylabel(\"y\")\n",
        "\n",
        "fig.tight_layout()\n",
        "plt.show()"
      ],
      "execution_count": null,
      "outputs": [
        {
          "output_type": "display_data",
          "data": {
            "text/plain": [
              "<Figure size 640x480 with 2 Axes>"
            ],
            "image/png": "[encoded data removed]"
          },
          "metadata": {}
        }
      ]
    },
    {
      "cell_type": "markdown",
      "metadata": {
        "id": "LcIRIas6lGhB"
      },
      "source": [
        "save the figure above as \"figure.png\":"
      ]
    },
    {
      "cell_type": "code",
      "metadata": {
        "id": "KbINFANSlGhB"
      },
      "source": [
        "fig.savefig(\"figure.png\", dpi=100)"
      ],
      "execution_count": null,
      "outputs": []
    },
    {
      "cell_type": "markdown",
      "metadata": {
        "id": "xm77m7SnlGhB"
      },
      "source": [
        "create a 2D plot of Gaussian function, $ f(x, y) = \\exp{(-ax^2 - by^2)} $, for $ x, y \\in [-2, 2] $ using the [`pcolormesh`](https://matplotlib.org/stable/api/_as_gen/matplotlib.pyplot.pcolormesh.html) function:"
      ]
    },
    {
      "cell_type": "code",
      "metadata": {
        "scrolled": true,
        "id": "tZRMgvoolGhB",
        "colab": {
          "base_uri": "https://localhost:8080/",
          "height": 472
        },
        "outputId": "1de64f1a-0fb2-4b2e-a95a-6c75f2350f37"
      },
      "source": [
        "a = 1 #@param {type:\"slider\", min:0, max:5, step:0.1}\n",
        "b = 1 #@param {type:\"slider\", min:0, max:5, step:0.1}\n",
        "\n",
        "x = np.linspace(-2, 2, 100)\n",
        "y = np.linspace(-2, 2, 100)\n",
        "xx, yy = np.meshgrid(x, y)\n",
        "function = np.exp(-a*xx**2 - b*yy**2)\n",
        "\n",
        "fig, ax = plt.subplots()\n",
        "img = ax.pcolormesh(x, y, function, cmap=\"jet\", shading=\"gouraud\")\n",
        "ax.set_title(\"2D plot of Gaussian function\")\n",
        "ax.set_xlabel(\"x\")\n",
        "ax.set_ylabel(\"y\")\n",
        "\n",
        "cbar = plt.colorbar(img)\n",
        "cbar.set_label(label=r\"$ exp(-ax^2 - by^2) $\", fontsize=12)\n",
        "\n",
        "plt.show()"
      ],
      "execution_count": null,
      "outputs": [
        {
          "output_type": "display_data",
          "data": {
            "text/plain": [
              "<Figure size 640x480 with 2 Axes>"
            ],
            "image/png": "[encoded data removed]"
          },
          "metadata": {}
        }
      ]
    },
    {
      "cell_type": "markdown",
      "metadata": {
        "collapsed": true,
        "id": "UcivmkNylGhC"
      },
      "source": [
        "Further reading: https://matplotlib.org/"
      ]
    },
    {
      "cell_type": "markdown",
      "metadata": {
        "id": "Lj3F_lOp8NG_"
      },
      "source": [
        "### Pandas"
      ]
    },
    {
      "cell_type": "markdown",
      "metadata": {
        "id": "OTgP50S5B0HZ"
      },
      "source": [
        "<img src=\"https://staff.utia.cas.cz/novozada/ml1/pandas2.png\">"
      ]
    },
    {
      "cell_type": "code",
      "metadata": {
        "id": "seEz5O-d8MdR",
        "colab": {
          "base_uri": "https://localhost:8080/",
          "height": 225
        },
        "outputId": "f8f3bd69-78cc-4fbb-efe2-9228b081f14e"
      },
      "source": [
        "import pandas as pd\n",
        "data = {\n",
        "    'apples': [3, 2, 0, 1],\n",
        "    'oranges': [0, 3, 7, 2]\n",
        "}\n",
        "purchases = pd.DataFrame(data)\n",
        "purchases = pd.DataFrame(data, index=['June', 'Robert', 'Lily', 'David'])\n",
        "\n",
        "purchases"
      ],
      "execution_count": null,
      "outputs": [
        {
          "output_type": "execute_result",
          "data": {
            "text/plain": [
              "        apples  oranges\n",
              "June         3        0\n",
              "Robert       2        3\n",
              "Lily         0        7\n",
              "David        1        2"
            ],
            "text/html": [
              "\n",
              "  <div id=\"df-640f3ab4-8d33-4429-857f-f0d0e825ae78\" class=\"colab-df-container\">\n",
              "    <div>\n",
              "<style scoped>\n",
              "    .dataframe tbody tr th:only-of-type {\n",
              "        vertical-align: middle;\n",
              "    }\n",
              "\n",
              "    .dataframe tbody tr th {\n",
              "        vertical-align: top;\n",
              "    }\n",
              "\n",
              "    .dataframe thead th {\n",
              "        text-align: right;\n",
              "    }\n",
              "</style>\n",
              "<table border=\"1\" class=\"dataframe\">\n",
              "  <thead>\n",
              "    <tr style=\"text-align: right;\">\n",
              "      <th></th>\n",
              "      <th>apples</th>\n",
              "      <th>oranges</th>\n",
              "    </tr>\n",
              "  </thead>\n",
              "  <tbody>\n",
              "    <tr>\n",
              "      <th>June</th>\n",
              "      <td>3</td>\n",
              "      <td>0</td>\n",
              "    </tr>\n",
              "    <tr>\n",
              "      <th>Robert</th>\n",
              "      <td>2</td>\n",
              "      <td>3</td>\n",
              "    </tr>\n",
              "    <tr>\n",
              "      <th>Lily</th>\n",
              "      <td>0</td>\n",
              "      <td>7</td>\n",
              "    </tr>\n",
              "    <tr>\n",
              "      <th>David</th>\n",
              "      <td>1</td>\n",
              "      <td>2</td>\n",
              "    </tr>\n",
              "  </tbody>\n",
              "</table>\n",
              "</div>\n",
              "    <div class=\"colab-df-buttons\">\n",
              "\n",
              "  <div class=\"colab-df-container\">\n",
              "    <button class=\"colab-df-convert\" onclick=\"convertToInteractive('df-640f3ab4-8d33-4429-857f-f0d0e825ae78')\"\n",
              "            title=\"Convert this dataframe to an interactive table.\"\n",
              "            style=\"display:none;\">\n",
              "\n",
              "  <svg xmlns=\"http://www.w3.org/2000/svg\" height=\"24px\" viewBox=\"0 -960 960 960\">\n",
              "    <path d=\"M120-120v-720h720v720H120Zm60-500h600v-160H180v160Zm220 220h160v-160H400v160Zm0 220h160v-160H400v160ZM180-400h160v-160H180v160Zm440 0h160v-160H620v160ZM180-180h160v-160H180v160Zm440 0h160v-160H620v160Z\"/>\n",
              "  </svg>\n",
              "    </button>\n",
              "\n",
              "  <style>\n",
              "    .colab-df-container {\n",
              "      display:flex;\n",
              "      gap: 12px;\n",
              "    }\n",
              "\n",
              "    .colab-df-convert {\n",
              "      background-color: #E8F0FE;\n",
              "      border: none;\n",
              "      border-radius: 50%;\n",
              "      cursor: pointer;\n",
              "      display: none;\n",
              "      fill: #1967D2;\n",
              "      height: 32px;\n",
              "      padding: 0 0 0 0;\n",
              "      width: 32px;\n",
              "    }\n",
              "\n",
              "    .colab-df-convert:hover {\n",
              "      background-color: #E2EBFA;\n",
              "      box-shadow: 0px 1px 2px rgba(60, 64, 67, 0.3), 0px 1px 3px 1px rgba(60, 64, 67, 0.15);\n",
              "      fill: #174EA6;\n",
              "    }\n",
              "\n",
              "    .colab-df-buttons div {\n",
              "      margin-bottom: 4px;\n",
              "    }\n",
              "\n",
              "    [theme=dark] .colab-df-convert {\n",
              "      background-color: #3B4455;\n",
              "      fill: #D2E3FC;\n",
              "    }\n",
              "\n",
              "    [theme=dark] .colab-df-convert:hover {\n",
              "      background-color: #434B5C;\n",
              "      box-shadow: 0px 1px 3px 1px rgba(0, 0, 0, 0.15);\n",
              "      filter: drop-shadow(0px 1px 2px rgba(0, 0, 0, 0.3));\n",
              "      fill: #FFFFFF;\n",
              "    }\n",
              "  </style>\n",
              "\n",
              "    <script>\n",
              "      const buttonEl =\n",
              "        document.querySelector('#df-640f3ab4-8d33-4429-857f-f0d0e825ae78 button.colab-df-convert');\n",
              "      buttonEl.style.display =\n",
              "        google.colab.kernel.accessAllowed ? 'block' : 'none';\n",
              "\n",
              "      async function convertToInteractive(key) {\n",
              "        const element = document.querySelector('#df-640f3ab4-8d33-4429-857f-f0d0e825ae78');\n",
              "        const dataTable =\n",
              "          await google.colab.kernel.invokeFunction('convertToInteractive',\n",
              "                                                    [key], {});\n",
              "        if (!dataTable) return;\n",
              "\n",
              "        const docLinkHtml = 'Like what you see? Visit the ' +\n",
              "          '<a target=\"_blank\" href=https://colab.research.google.com/notebooks/data_table.ipynb>data table notebook</a>'\n",
              "          + ' to learn more about interactive tables.';\n",
              "        element.innerHTML = '';\n",
              "        dataTable['output_type'] = 'display_data';\n",
              "        await google.colab.output.renderOutput(dataTable, element);\n",
              "        const docLink = document.createElement('div');\n",
              "        docLink.innerHTML = docLinkHtml;\n",
              "        element.appendChild(docLink);\n",
              "      }\n",
              "    </script>\n",
              "  </div>\n",
              "\n",
              "\n",
              "<div id=\"df-b3f82194-8c1b-4e0e-a2d8-fdcc0f15ee7f\">\n",
              "  <button class=\"colab-df-quickchart\" onclick=\"quickchart('df-b3f82194-8c1b-4e0e-a2d8-fdcc0f15ee7f')\"\n",
              "            title=\"Suggest charts.\"\n",
              "            style=\"display:none;\">\n",
              "\n",
              "<svg xmlns=\"http://www.w3.org/2000/svg\" height=\"24px\"viewBox=\"0 0 24 24\"\n",
              "     width=\"24px\">\n",
              "    <g>\n",
              "        <path d=\"M19 3H5c-1.1 0-2 .9-2 2v14c0 1.1.9 2 2 2h14c1.1 0 2-.9 2-2V5c0-1.1-.9-2-2-2zM9 17H7v-7h2v7zm4 0h-2V7h2v10zm4 0h-2v-4h2v4z\"/>\n",
              "    </g>\n",
              "</svg>\n",
              "  </button>\n",
              "\n",
              "<style>\n",
              "  .colab-df-quickchart {\n",
              "      --bg-color: #E8F0FE;\n",
              "      --fill-color: #1967D2;\n",
              "      --hover-bg-color: #E2EBFA;\n",
              "      --hover-fill-color: #174EA6;\n",
              "      --disabled-fill-color: #AAA;\n",
              "      --disabled-bg-color: #DDD;\n",
              "  }\n",
              "\n",
              "  [theme=dark] .colab-df-quickchart {\n",
              "      --bg-color: #3B4455;\n",
              "      --fill-color: #D2E3FC;\n",
              "      --hover-bg-color: #434B5C;\n",
              "      --hover-fill-color: #FFFFFF;\n",
              "      --disabled-bg-color: #3B4455;\n",
              "      --disabled-fill-color: #666;\n",
              "  }\n",
              "\n",
              "  .colab-df-quickchart {\n",
              "    background-color: var(--bg-color);\n",
              "    border: none;\n",
              "    border-radius: 50%;\n",
              "    cursor: pointer;\n",
              "    display: none;\n",
              "    fill: var(--fill-color);\n",
              "    height: 32px;\n",
              "    padding: 0;\n",
              "    width: 32px;\n",
              "  }\n",
              "\n",
              "  .colab-df-quickchart:hover {\n",
              "    background-color: var(--hover-bg-color);\n",
              "    box-shadow: 0 1px 2px rgba(60, 64, 67, 0.3), 0 1px 3px 1px rgba(60, 64, 67, 0.15);\n",
              "    fill: var(--button-hover-fill-color);\n",
              "  }\n",
              "\n",
              "  .colab-df-quickchart-complete:disabled,\n",
              "  .colab-df-quickchart-complete:disabled:hover {\n",
              "    background-color: var(--disabled-bg-color);\n",
              "    fill: var(--disabled-fill-color);\n",
              "    box-shadow: none;\n",
              "  }\n",
              "\n",
              "  .colab-df-spinner {\n",
              "    border: 2px solid var(--fill-color);\n",
              "    border-color: transparent;\n",
              "    border-bottom-color: var(--fill-color);\n",
              "    animation:\n",
              "      spin 1s steps(1) infinite;\n",
              "  }\n",
              "\n",
              "  @keyframes spin {\n",
              "    0% {\n",
              "      border-color: transparent;\n",
              "      border-bottom-color: var(--fill-color);\n",
              "      border-left-color: var(--fill-color);\n",
              "    }\n",
              "    20% {\n",
              "      border-color: transparent;\n",
              "      border-left-color: var(--fill-color);\n",
              "      border-top-color: var(--fill-color);\n",
              "    }\n",
              "    30% {\n",
              "      border-color: transparent;\n",
              "      border-left-color: var(--fill-color);\n",
              "      border-top-color: var(--fill-color);\n",
              "      border-right-color: var(--fill-color);\n",
              "    }\n",
              "    40% {\n",
              "      border-color: transparent;\n",
              "      border-right-color: var(--fill-color);\n",
              "      border-top-color: var(--fill-color);\n",
              "    }\n",
              "    60% {\n",
              "      border-color: transparent;\n",
              "      border-right-color: var(--fill-color);\n",
              "    }\n",
              "    80% {\n",
              "      border-color: transparent;\n",
              "      border-right-color: var(--fill-color);\n",
              "      border-bottom-color: var(--fill-color);\n",
              "    }\n",
              "    90% {\n",
              "      border-color: transparent;\n",
              "      border-bottom-color: var(--fill-color);\n",
              "    }\n",
              "  }\n",
              "</style>\n",
              "\n",
              "  <script>\n",
              "    async function quickchart(key) {\n",
              "      const quickchartButtonEl =\n",
              "        document.querySelector('#' + key + ' button');\n",
              "      quickchartButtonEl.disabled = true;  // To prevent multiple clicks.\n",
              "      quickchartButtonEl.classList.add('colab-df-spinner');\n",
              "      try {\n",
              "        const charts = await google.colab.kernel.invokeFunction(\n",
              "            'suggestCharts', [key], {});\n",
              "      } catch (error) {\n",
              "        console.error('Error during call to suggestCharts:', error);\n",
              "      }\n",
              "      quickchartButtonEl.classList.remove('colab-df-spinner');\n",
              "      quickchartButtonEl.classList.add('colab-df-quickchart-complete');\n",
              "    }\n",
              "    (() => {\n",
              "      let quickchartButtonEl =\n",
              "        document.querySelector('#df-b3f82194-8c1b-4e0e-a2d8-fdcc0f15ee7f button');\n",
              "      quickchartButtonEl.style.display =\n",
              "        google.colab.kernel.accessAllowed ? 'block' : 'none';\n",
              "    })();\n",
              "  </script>\n",
              "</div>\n",
              "    </div>\n",
              "  </div>\n"
            ]
          },
          "metadata": {},
          "execution_count": 57
        }
      ]
    },
    {
      "cell_type": "code",
      "metadata": {
        "id": "DcbNO0cTEvM8",
        "colab": {
          "base_uri": "https://localhost:8080/"
        },
        "outputId": "163eaf2c-d3fb-4aed-f7cb-33c25ff57df2"
      },
      "source": [
        "purchases.loc['June']"
      ],
      "execution_count": null,
      "outputs": [
        {
          "output_type": "execute_result",
          "data": {
            "text/plain": [
              "apples     3\n",
              "oranges    0\n",
              "Name: June, dtype: int64"
            ]
          },
          "metadata": {},
          "execution_count": 58
        }
      ]
    },
    {
      "cell_type": "markdown",
      "metadata": {
        "id": "RPgpbtCAE-oH"
      },
      "source": [
        "Further reading: [Pandas cheat sheet](https://pandas.pydata.org/Pandas_Cheat_Sheet.pdf)"
      ]
    },
    {
      "cell_type": "markdown",
      "metadata": {
        "id": "22Apuzh68Qw0"
      },
      "source": [
        "### Scikit-learn"
      ]
    },
    {
      "cell_type": "markdown",
      "metadata": {
        "id": "w7l1LUsJ8Vpv"
      },
      "source": [
        "<img src=\"https://staff.utia.cas.cz/novozada/ml1/scikit.png\">\n",
        "\n",
        "[Scikit-learn](https://scikit-learn.org/stable/index.html) (also known as sklearn) is a free software machine learning library for Python. We will jump into it in the next Part."
      ]
    },
    {
      "cell_type": "markdown",
      "metadata": {
        "id": "2Df0HJky7GLS"
      },
      "source": [
        "# Part 5: Machine Learning"
      ]
    },
    {
      "cell_type": "markdown",
      "metadata": {
        "id": "8DuaTN-x6wHn"
      },
      "source": [
        "<img src=\"https://staff.utia.cas.cz/novozada/ml1/ml_overview.png\">\n",
        "\n",
        "## Machine Learning applications\n",
        "\n",
        "<img src=\"https://staff.utia.cas.cz/novozada/ml1/ml_apl.png\">\n",
        "\n",
        "\n",
        "\n"
      ]
    },
    {
      "cell_type": "markdown",
      "metadata": {
        "id": "WH1ImfcsdsMm"
      },
      "source": [
        "## Regression\n",
        "is about fitting a shape that gets as close to the data as possible.\n",
        "\n",
        "![](https://staff.utia.cas.cz/novozada/ml1/regression.png)"
      ]
    },
    {
      "cell_type": "markdown",
      "metadata": {
        "id": "xm4Y9U10SyAs"
      },
      "source": [
        "##Classification\n",
        "is about separating data into classes.\n",
        "\n",
        "![](https://staff.utia.cas.cz/novozada/ml1/classification.png)\n",
        "\n"
      ]
    },
    {
      "cell_type": "markdown",
      "metadata": {
        "id": "mTn2w5HfSnXA"
      },
      "source": [
        "## Basic steps\n",
        "<img src=\"https://staff.utia.cas.cz/novozada/ml1/ml_steps.png\">"
      ]
    },
    {
      "cell_type": "markdown",
      "metadata": {
        "id": "xXohBl3ZSz9I"
      },
      "source": [
        "## Linear regression"
      ]
    },
    {
      "cell_type": "code",
      "metadata": {
        "id": "IaV4TkB16v3D",
        "colab": {
          "base_uri": "https://localhost:8080/",
          "height": 430
        },
        "outputId": "2e6f8ce9-1804-4f78-d65e-f3e40e67ab96"
      },
      "source": [
        "import numpy as np\n",
        "from sklearn.linear_model import LinearRegression\n",
        "import matplotlib.pyplot as plt\n",
        "from sklearn.model_selection import train_test_split\n",
        "from sklearn import datasets, metrics\n",
        "\n",
        "# 1. Prepare data\n",
        "X, y = datasets.make_regression(n_samples=100, n_features=1, noise=20, random_state=4)  # random_state = stejna data furt, ne nahodna\n",
        "# print(X)\n",
        "# print(y)\n",
        "\n",
        "# 2. Split data\n",
        "X_train, X_test, y_train, y_test = train_test_split(X, y, test_size=0.2, random_state=1234) # nahodne (definovane random_state) rozdeli data X x na trenovaci a testovaci, 20% testovaci\n",
        "\n",
        "# 3. Design a model\n",
        "regressor = LinearRegression()\n",
        "\n",
        "# 4. Train a model\n",
        "regressor.fit(X_train, y_train)\n",
        "\n",
        "# 5. Make predictions\n",
        "predictions = regressor.predict(X_test)\n",
        "\n",
        "# 6. Evaluate predictions (visually)\n",
        "fig = plt.figure()\n",
        "m1 = plt.scatter(X_train, y_train)\n",
        "m2 = plt.scatter(X_test, y_test)\n",
        "y_pred_line = regressor.predict(X)\n",
        "plt.plot(X, y_pred_line, color=\"black\")\n",
        "plt.show()"
      ],
      "execution_count": null,
      "outputs": [
        {
          "output_type": "display_data",
          "data": {
            "text/plain": [
              "<Figure size 640x480 with 1 Axes>"
            ],
            "image/png": "[encoded data removed]"
          },
          "metadata": {}
        }
      ]
    },
    {
      "cell_type": "code",
      "metadata": {
        "id": "8ysuBx2HSomt",
        "colab": {
          "base_uri": "https://localhost:8080/"
        },
        "outputId": "e3276ad0-2dd4-45b8-a079-b8a10ecef9e2"
      },
      "source": [
        "# 6. Evaluate predictions (numerically)\n",
        "mse = np.mean((y_test - predictions) ** 2)\n",
        "print(\"Mean squared error:\", mse)\n",
        "\n",
        "accu = metrics.r2_score(y_test, predictions)\n",
        "print(f\"Accuracy (r2 score): {accu*100:.2f} %\")"
      ],
      "execution_count": null,
      "outputs": [
        {
          "output_type": "stream",
          "name": "stdout",
          "text": [
            "Mean squared error: 305.7741316228642\n",
            "Accuracy (r2 score): 92.48 %\n"
          ]
        }
      ]
    },
    {
      "cell_type": "markdown",
      "metadata": {
        "id": "t5ldGF2N3Ux0"
      },
      "source": [
        "### Linear regression - our implementation\n",
        "\n",
        "**Approximation**\n",
        "$$\n",
        "\\begin{aligned}\n",
        "\\hat{y}= w \\cdot x + b\n",
        "\\end{aligned}\n",
        "$$\n",
        "<br />\n",
        "**Cost function - Mean squared error (MSE)**\n",
        "$$\n",
        "\\begin{aligned}\n",
        "MSE = J(w, b)= \\frac{1}{N} \\sum_{i=1}^N (y_i - (w \\cdot x_i + b))^2\n",
        "\\end{aligned}\n",
        "$$\n",
        "<br />\n",
        "$$\n",
        "\\begin{aligned}\n",
        "\\begin{pmatrix}\\frac{\\partial J_i}{dw} \\\\ \\frac{\\partial J_i}{db} \\end{pmatrix}\n",
        "&=\n",
        "\\begin{pmatrix}\\frac{1}{N} \\sum_{} -2 \\cdot x_i(y_i-(w \\cdot x_i + b)) \\\\\n",
        "\\frac{1}{N} \\sum_{} -2 \\cdot (y_i-(w \\cdot x_i + b)) \\end{pmatrix}\n",
        "\\end{aligned}\n",
        "$$"
      ]
    },
    {
      "cell_type": "markdown",
      "metadata": {
        "id": "GO--o5a4Fp-4"
      },
      "source": [
        "<img src=\"https://staff.utia.cas.cz/novozada/ml1/gradient_descent.png\">"
      ]
    },
    {
      "cell_type": "markdown",
      "metadata": {
        "id": "_vw9sJv3AJVm"
      },
      "source": [
        "**Update Rules**\n",
        "$$\n",
        "\\begin{aligned}\n",
        "\\tilde{w} = w-\\alpha \\cdot dw \\\\\n",
        "\\tilde{b} = b-\\alpha \\cdot db\n",
        "\\end{aligned}\n",
        "$$\n",
        "<br />\n",
        "$$\n",
        "\\begin{aligned}\n",
        "dw =\n",
        "\\frac{1}{N} \\sum_{i=1}^N -2 \\cdot x_i \\cdot (y_i - (w \\cdot x_i + b)) =\n",
        "\\frac{1}{N} \\sum_{i=1}^N -2 \\cdot x_i \\cdot (y_i - \\hat{y_i}) =\n",
        "\\frac{1}{N} \\sum_{i=1}^N 2 \\cdot x_i \\cdot (\\hat{y_i} - y_i)\n",
        "\\\\\n",
        "db =\n",
        "\\frac{1}{N} \\sum_{i=1}^N -2 \\cdot (y_i-(w \\cdot x_i + b)) =\n",
        "\\frac{1}{N} \\sum_{i=1}^N -2 \\cdot (y_i - \\hat{y_i}) =\n",
        "\\frac{1}{N} \\sum_{i=1}^N 2 \\cdot (\\hat{y_i} - y_i)  \n",
        "\\end{aligned}\n",
        "$$\n",
        "<br />"
      ]
    },
    {
      "cell_type": "markdown",
      "metadata": {
        "id": "rF9O3Z_2Ffj3"
      },
      "source": [
        "<img src=\"https://staff.utia.cas.cz/novozada/ml1/learning_rate.png\">"
      ]
    },
    {
      "cell_type": "code",
      "metadata": {
        "colab": {
          "base_uri": "https://localhost:8080/",
          "height": 465
        },
        "id": "lOrQOKraGNgk",
        "outputId": "8cd1b072-3a75-4896-8ee6-b095408ec208"
      },
      "source": [
        "import numpy as np\n",
        "import matplotlib.pyplot as plt\n",
        "from sklearn.model_selection import train_test_split\n",
        "from sklearn import datasets, metrics\n",
        "\n",
        "\n",
        "class OurLinearRegression:\n",
        "    def __init__(self, learning_rate=0.001, n_iters=1000):\n",
        "        self.lr = learning_rate\n",
        "        self.n_iters = n_iters\n",
        "        self.weights = None\n",
        "        self.bias = None\n",
        "\n",
        "    def fit(self, X, y):\n",
        "        n_samples, n_features = X.shape\n",
        "\n",
        "        # init parameters\n",
        "        self.weights = np.zeros(n_features)\n",
        "        self.bias = 0\n",
        "\n",
        "        # gradient descent\n",
        "        for _ in range(self.n_iters):\n",
        "            y_predicted = np.dot(X, self.weights) + self.bias\n",
        "            # compute gradients\n",
        "            dw = (1 / n_samples) * np.dot(X.T, (y_predicted - y))\n",
        "            db = (1 / n_samples) * np.sum(y_predicted - y)\n",
        "\n",
        "            # update parameters\n",
        "            self.weights -= self.lr * dw\n",
        "            self.bias -= self.lr * db\n",
        "\n",
        "    def predict(self, X):\n",
        "        y_approximated = np.dot(X, self.weights) + self.bias\n",
        "        return y_approximated\n",
        "\n",
        "# 1. Prepare data\n",
        "X, y = datasets.make_regression(n_samples=100, n_features=1, noise=20, random_state=4)\n",
        "\n",
        "# 2. Split data\n",
        "X_train, X_test, y_train, y_test = train_test_split(X, y, test_size=0.8, random_state=1234)\n",
        "\n",
        "# 3. Design a model\n",
        "regressor = OurLinearRegression(learning_rate=0.1, n_iters=100)\n",
        "\n",
        "# 4. Train a model\n",
        "regressor.fit(X_train, y_train)\n",
        "\n",
        "# 5. Make predictions\n",
        "predictions = regressor.predict(X_test)\n",
        "\n",
        "# 6. Evaluate predictions (visually)\n",
        "fig = plt.figure()\n",
        "m1 = plt.scatter(X_train, y_train)\n",
        "m2 = plt.scatter(X_test, y_test)\n",
        "y_pred_line = regressor.predict(X)\n",
        "plt.plot(X, y_pred_line, color=\"black\")\n",
        "plt.show()\n",
        "\n",
        "# 6. Evaluate predictions (numerically)\n",
        "mse = np.mean((y_test - predictions) ** 2)\n",
        "print(\"Mean squared error:\", mse)\n",
        "\n",
        "accu = metrics.r2_score(y_test, predictions)\n",
        "print(f\"Accuracy (r2 score): {accu*100:.2f} %\")"
      ],
      "execution_count": null,
      "outputs": [
        {
          "output_type": "display_data",
          "data": {
            "text/plain": [
              "<Figure size 640x480 with 1 Axes>"
            ],
            "image/png": "[encoded data removed]"
          },
          "metadata": {}
        },
        {
          "output_type": "stream",
          "name": "stdout",
          "text": [
            "Mean squared error: 354.0988469117095\n",
            "Accuracy (r2 score): 93.84 %\n"
          ]
        }
      ]
    },
    {
      "cell_type": "markdown",
      "metadata": {
        "id": "8jII66zR5FTa"
      },
      "source": [
        "## k-nearest neighbors (KNN)\n",
        "\n",
        "### Iris Data Set\n",
        "* [“Hello World of machine learning\"](https://machinelearningmastery.com/machine-learning-in-python-step-by-step/)\n",
        "* [\"Perhaps the best known database to be found in the pattern recognition literature\"](https://archive.ics.uci.edu/ml/datasets/iris)\n",
        "\n",
        "<img src=\"https://staff.utia.cas.cz/novozada/ml1/knn.png\">"
      ]
    },
    {
      "cell_type": "code",
      "metadata": {
        "id": "AhP50Rt_YqJP"
      },
      "source": [
        "from collections import Counter\n",
        "import numpy as np\n",
        "\n",
        "def euclidean_distance(x1, x2):\n",
        "    return np.sqrt(np.sum((x1 - x2) ** 2))\n",
        "\n",
        "class KNN:\n",
        "    def __init__(self, k=3):\n",
        "        self.k = k\n",
        "\n",
        "    def fit(self, X, y):\n",
        "        self.X_train = X\n",
        "        self.y_train = y\n",
        "\n",
        "    def predict(self, X):\n",
        "        y_pred = [self._predict(x) for x in X]\n",
        "        return np.array(y_pred)\n",
        "\n",
        "    def _predict(self, x):\n",
        "        # Compute distances between x and all examples in the training set\n",
        "        distances = [euclidean_distance(x, x_train) for x_train in self.X_train]\n",
        "        # Sort by distance and return indices of the first k neighbors\n",
        "        k_idx = np.argsort(distances)[: self.k]\n",
        "        # Extract the labels of the k nearest neighbor training samples\n",
        "        k_neighbor_labels = [self.y_train[i] for i in k_idx]\n",
        "        # return the most common class label\n",
        "        most_common = Counter(k_neighbor_labels).most_common(1)\n",
        "        return most_common[0][0]"
      ],
      "execution_count": null,
      "outputs": []
    },
    {
      "cell_type": "code",
      "metadata": {
        "id": "yB_BRRsWhdrx",
        "colab": {
          "base_uri": "https://localhost:8080/",
          "height": 569
        },
        "outputId": "51fcd1ec-4477-488a-8b9e-5ac9e7766232"
      },
      "source": [
        "from matplotlib.colors import ListedColormap\n",
        "from sklearn import datasets\n",
        "from sklearn.model_selection import train_test_split\n",
        "import matplotlib.pyplot as plt\n",
        "\n",
        "cmap = ListedColormap([\"#FF0000\", \"#00FF00\", \"#0000FF\"])\n",
        "\n",
        "def accuracy(y_true, y_pred):\n",
        "    accuracy = np.sum(y_true == y_pred) / len(y_true)\n",
        "    return accuracy\n",
        "\n",
        "# 1. Prepare data\n",
        "iris = datasets.load_iris()\n",
        "X, y = iris.data, iris.target\n",
        "\n",
        "# 2. Split data\n",
        "X_train, X_test, y_train, y_test = train_test_split(X, y, test_size=0.20, random_state=1234)\n",
        "print(y_train)\n",
        "\n",
        "# 3. Design a model\n",
        "k = 3\n",
        "clf = KNN(k=k)\n",
        "\n",
        "# 4. Train a model\n",
        "clf.fit(X_train, y_train)\n",
        "\n",
        "# 5. Make predictions\n",
        "predictions = clf.predict(X_test)\n",
        "\n",
        "# 6. Evaluate predictions\n",
        "print(\"KNN classification accuracy\", accuracy(y_test, predictions))\n",
        "\n",
        "plt.figure()\n",
        "plt.scatter(X[:,1],X[:,2],c=y, cmap=cmap, edgecolors='k', s=20 )\n",
        "plt.show()\n",
        "\n",
        "X_train.shape\n",
        "\n",
        "from sklearn.metrics import confusion_matrix\n",
        "confusion_matrix(predictions, y_test)"
      ],
      "execution_count": null,
      "outputs": [
        {
          "output_type": "stream",
          "name": "stdout",
          "text": [
            "[1 2 0 2 1 0 0 0 0 1 0 1 0 2 2 0 2 2 2 2 0 2 2 1 1 1 1 1 1 0 0 2 2 2 0 0 0\n",
            " 2 1 2 2 1 0 2 0 2 0 1 1 0 1 0 2 2 2 1 0 0 2 1 1 0 1 2 1 1 1 0 0 0 1 1 0 2\n",
            " 1 2 2 1 0 1 2 0 0 2 2 1 1 2 0 1 2 2 2 1 0 0 0 0 2 1 2 0 0 1 1 2 1 1 2 2 2\n",
            " 0 2 0 0 2 2 1 0 0]\n",
            "KNN classification accuracy 1.0\n"
          ]
        },
        {
          "output_type": "display_data",
          "data": {
            "text/plain": [
              "<Figure size 640x480 with 1 Axes>"
            ],
            "image/png": "[encoded data removed]"
          },
          "metadata": {}
        },
        {
          "output_type": "execute_result",
          "data": {
            "text/plain": [
              "array([[ 9,  0,  0],\n",
              "       [ 0, 13,  0],\n",
              "       [ 0,  0,  8]])"
            ]
          },
          "metadata": {},
          "execution_count": 63
        }
      ]
    }
  ]
}